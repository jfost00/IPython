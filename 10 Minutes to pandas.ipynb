{
 "metadata": {
  "name": "",
  "signature": "sha256:05d3b5632240ff11058decf7cc6fca46283d1562614b454cdc7f55c12a89f4d2"
 },
 "nbformat": 3,
 "nbformat_minor": 0,
 "worksheets": [
  {
   "cells": [
    {
     "cell_type": "heading",
     "level": 1,
     "metadata": {},
     "source": [
      "10 Minutes to pandas"
     ]
    },
    {
     "cell_type": "code",
     "collapsed": false,
     "input": [
      "from pandas import * \n",
      "import numpy as np\n",
      "import matplotlib.pyplot as plt\n",
      "%matplotlib inline"
     ],
     "language": "python",
     "metadata": {},
     "outputs": [],
     "prompt_number": 1
    },
    {
     "cell_type": "markdown",
     "metadata": {},
     "source": [
      "Work through of the introduction to pandas found at http://pandas.pydata.org/pandas-docs/stable/10min.html"
     ]
    },
    {
     "cell_type": "code",
     "collapsed": false,
     "input": [
      "# creating a series\n",
      "\n",
      "s = Series([1,3,5,np.nan, 6,8])\n",
      "s"
     ],
     "language": "python",
     "metadata": {},
     "outputs": [
      {
       "metadata": {},
       "output_type": "pyout",
       "prompt_number": 2,
       "text": [
        "0     1\n",
        "1     3\n",
        "2     5\n",
        "3   NaN\n",
        "4     6\n",
        "5     8\n",
        "dtype: float64"
       ]
      }
     ],
     "prompt_number": 2
    },
    {
     "cell_type": "code",
     "collapsed": false,
     "input": [
      "# creating a dataframe\n",
      "\n",
      "dates = date_range('20130101', periods = 6)\n",
      "print dates\n",
      "\n",
      "df = DataFrame(np.random.randn(6,4), index=dates, columns=list('ABCD'))\n",
      "print df"
     ],
     "language": "python",
     "metadata": {},
     "outputs": [
      {
       "output_type": "stream",
       "stream": "stdout",
       "text": [
        "<class 'pandas.tseries.index.DatetimeIndex'>\n",
        "[2013-01-01, ..., 2013-01-06]\n",
        "Length: 6, Freq: D, Timezone: None\n",
        "                   A         B         C         D\n",
        "2013-01-01  0.042345  0.158389 -0.851400  0.961354\n",
        "2013-01-02 -0.912974  3.206082  2.029802 -0.218770\n",
        "2013-01-03 -1.273348 -0.712104  2.016342  0.789753\n",
        "2013-01-04 -0.699427 -0.506354  0.492272 -0.582514\n",
        "2013-01-05 -0.671727  0.384946 -0.533715  0.252866\n",
        "2013-01-06 -0.373994  0.183951 -0.545556 -0.368279"
       ]
      },
      {
       "output_type": "stream",
       "stream": "stdout",
       "text": [
        "\n"
       ]
      }
     ],
     "prompt_number": 3
    },
    {
     "cell_type": "code",
     "collapsed": false,
     "input": [
      "df2 = DataFrame({ 'A' : 1.,\n",
      "                 'B' : Timestamp('20130102'),\n",
      "                 'C' : Series(1, index=list(range(4)), dtype='float32'),\n",
      "                 'D' : np.array([3] * 4, dtype='int32'),\n",
      "                 'E' : Categorical([\"test\", \"train\", \"test\", \"train\"]),\n",
      "                 'F' : 'foo'})\n",
      "print df2\n",
      "print df2.dtypes"
     ],
     "language": "python",
     "metadata": {},
     "outputs": [
      {
       "output_type": "stream",
       "stream": "stdout",
       "text": [
        "   A          B  C  D      E    F\n",
        "0  1 2013-01-02  1  3   test  foo\n",
        "1  1 2013-01-02  1  3  train  foo\n",
        "2  1 2013-01-02  1  3   test  foo\n",
        "3  1 2013-01-02  1  3  train  foo\n",
        "A           float64\n",
        "B    datetime64[ns]\n",
        "C           float32\n",
        "D             int32\n",
        "E            object\n",
        "F            object\n",
        "dtype: object\n"
       ]
      }
     ],
     "prompt_number": 7
    },
    {
     "cell_type": "code",
     "collapsed": false,
     "input": [
      "df2.pivot_table"
     ],
     "language": "python",
     "metadata": {},
     "outputs": [
      {
       "metadata": {},
       "output_type": "pyout",
       "prompt_number": 8,
       "text": [
        "<bound method DataFrame.pivot_table of    A          B  C  D      E    F\n",
        "0  1 2013-01-02  1  3   test  foo\n",
        "1  1 2013-01-02  1  3  train  foo\n",
        "2  1 2013-01-02  1  3   test  foo\n",
        "3  1 2013-01-02  1  3  train  foo>"
       ]
      }
     ],
     "prompt_number": 8
    },
    {
     "cell_type": "code",
     "collapsed": false,
     "input": [
      "print df.head()\n",
      "print df.tail()\n",
      "print df.index\n",
      "print df.columns\n",
      "print df.values\n",
      "print df.describe()"
     ],
     "language": "python",
     "metadata": {},
     "outputs": [
      {
       "output_type": "stream",
       "stream": "stdout",
       "text": [
        "                   A         B         C         D\n",
        "2013-01-01  0.042345  0.158389 -0.851400  0.961354\n",
        "2013-01-02 -0.912974  3.206082  2.029802 -0.218770\n",
        "2013-01-03 -1.273348 -0.712104  2.016342  0.789753\n",
        "2013-01-04 -0.699427 -0.506354  0.492272 -0.582514\n",
        "2013-01-05 -0.671727  0.384946 -0.533715  0.252866\n",
        "                   A         B         C         D\n",
        "2013-01-02 -0.912974  3.206082  2.029802 -0.218770\n",
        "2013-01-03 -1.273348 -0.712104  2.016342  0.789753\n",
        "2013-01-04 -0.699427 -0.506354  0.492272 -0.582514\n",
        "2013-01-05 -0.671727  0.384946 -0.533715  0.252866\n",
        "2013-01-06 -0.373994  0.183951 -0.545556 -0.368279\n",
        "<class 'pandas.tseries.index.DatetimeIndex'>\n",
        "[2013-01-01, ..., 2013-01-06]\n",
        "Length: 6, Freq: D, Timezone: None\n",
        "Index([u'A', u'B', u'C', u'D'], dtype='object')\n",
        "[[ 0.04234466  0.15838922 -0.85139955  0.96135399]\n",
        " [-0.91297399  3.20608204  2.02980187 -0.21877017]\n",
        " [-1.27334787 -0.7121038   2.01634198  0.78975337]\n",
        " [-0.69942679 -0.50635425  0.49227177 -0.58251373]\n",
        " [-0.67172682  0.38494621 -0.5337152   0.25286563]\n",
        " [-0.3739941   0.18395134 -0.54555593 -0.36827905]]\n",
        "              A         B         C         D\n",
        "count  6.000000  6.000000  6.000000  6.000000\n",
        "mean  -0.648187  0.452485  0.434624  0.139068\n",
        "std    0.450807  1.415705  1.311643  0.635394\n",
        "min   -1.273348 -0.712104 -0.851400 -0.582514\n",
        "25%   -0.859587 -0.340168 -0.542596 -0.330902\n",
        "50%   -0.685577  0.171170 -0.020722  0.017048\n",
        "75%   -0.448427  0.334697  1.635324  0.655531\n",
        "max    0.042345  3.206082  2.029802  0.961354"
       ]
      },
      {
       "output_type": "stream",
       "stream": "stdout",
       "text": [
        "\n"
       ]
      }
     ],
     "prompt_number": 9
    },
    {
     "cell_type": "code",
     "collapsed": false,
     "input": [
      "print df.T"
     ],
     "language": "python",
     "metadata": {},
     "outputs": [
      {
       "output_type": "stream",
       "stream": "stdout",
       "text": [
        "   2013-01-01  2013-01-02  2013-01-03  2013-01-04  2013-01-05  2013-01-06\n",
        "A    0.042345   -0.912974   -1.273348   -0.699427   -0.671727   -0.373994\n",
        "B    0.158389    3.206082   -0.712104   -0.506354    0.384946    0.183951\n",
        "C   -0.851400    2.029802    2.016342    0.492272   -0.533715   -0.545556\n",
        "D    0.961354   -0.218770    0.789753   -0.582514    0.252866   -0.368279\n"
       ]
      }
     ],
     "prompt_number": 10
    },
    {
     "cell_type": "code",
     "collapsed": false,
     "input": [
      "print df.sort_index(axis=1, ascending = False)"
     ],
     "language": "python",
     "metadata": {},
     "outputs": [
      {
       "output_type": "stream",
       "stream": "stdout",
       "text": [
        "                   D         C         B         A\n",
        "2013-01-01  0.961354 -0.851400  0.158389  0.042345\n",
        "2013-01-02 -0.218770  2.029802  3.206082 -0.912974\n",
        "2013-01-03  0.789753  2.016342 -0.712104 -1.273348\n",
        "2013-01-04 -0.582514  0.492272 -0.506354 -0.699427\n",
        "2013-01-05  0.252866 -0.533715  0.384946 -0.671727\n",
        "2013-01-06 -0.368279 -0.545556  0.183951 -0.373994\n"
       ]
      }
     ],
     "prompt_number": 11
    },
    {
     "cell_type": "code",
     "collapsed": false,
     "input": [
      "df.sort(['B'])"
     ],
     "language": "python",
     "metadata": {},
     "outputs": [
      {
       "html": [
        "<div style=\"max-height:1000px;max-width:1500px;overflow:auto;\">\n",
        "<table border=\"1\" class=\"dataframe\">\n",
        "  <thead>\n",
        "    <tr style=\"text-align: right;\">\n",
        "      <th></th>\n",
        "      <th>A</th>\n",
        "      <th>B</th>\n",
        "      <th>C</th>\n",
        "      <th>D</th>\n",
        "    </tr>\n",
        "  </thead>\n",
        "  <tbody>\n",
        "    <tr>\n",
        "      <th>2013-01-03</th>\n",
        "      <td>-1.273348</td>\n",
        "      <td>-0.712104</td>\n",
        "      <td> 2.016342</td>\n",
        "      <td> 0.789753</td>\n",
        "    </tr>\n",
        "    <tr>\n",
        "      <th>2013-01-04</th>\n",
        "      <td>-0.699427</td>\n",
        "      <td>-0.506354</td>\n",
        "      <td> 0.492272</td>\n",
        "      <td>-0.582514</td>\n",
        "    </tr>\n",
        "    <tr>\n",
        "      <th>2013-01-01</th>\n",
        "      <td> 0.042345</td>\n",
        "      <td> 0.158389</td>\n",
        "      <td>-0.851400</td>\n",
        "      <td> 0.961354</td>\n",
        "    </tr>\n",
        "    <tr>\n",
        "      <th>2013-01-06</th>\n",
        "      <td>-0.373994</td>\n",
        "      <td> 0.183951</td>\n",
        "      <td>-0.545556</td>\n",
        "      <td>-0.368279</td>\n",
        "    </tr>\n",
        "    <tr>\n",
        "      <th>2013-01-05</th>\n",
        "      <td>-0.671727</td>\n",
        "      <td> 0.384946</td>\n",
        "      <td>-0.533715</td>\n",
        "      <td> 0.252866</td>\n",
        "    </tr>\n",
        "    <tr>\n",
        "      <th>2013-01-02</th>\n",
        "      <td>-0.912974</td>\n",
        "      <td> 3.206082</td>\n",
        "      <td> 2.029802</td>\n",
        "      <td>-0.218770</td>\n",
        "    </tr>\n",
        "  </tbody>\n",
        "</table>\n",
        "</div>"
       ],
       "metadata": {},
       "output_type": "pyout",
       "prompt_number": 17,
       "text": [
        "                   A         B         C         D\n",
        "2013-01-03 -1.273348 -0.712104  2.016342  0.789753\n",
        "2013-01-04 -0.699427 -0.506354  0.492272 -0.582514\n",
        "2013-01-01  0.042345  0.158389 -0.851400  0.961354\n",
        "2013-01-06 -0.373994  0.183951 -0.545556 -0.368279\n",
        "2013-01-05 -0.671727  0.384946 -0.533715  0.252866\n",
        "2013-01-02 -0.912974  3.206082  2.029802 -0.218770"
       ]
      }
     ],
     "prompt_number": 17
    },
    {
     "cell_type": "code",
     "collapsed": false,
     "input": [
      "df['A']"
     ],
     "language": "python",
     "metadata": {},
     "outputs": [
      {
       "metadata": {},
       "output_type": "pyout",
       "prompt_number": 18,
       "text": [
        "2013-01-01    0.042345\n",
        "2013-01-02   -0.912974\n",
        "2013-01-03   -1.273348\n",
        "2013-01-04   -0.699427\n",
        "2013-01-05   -0.671727\n",
        "2013-01-06   -0.373994\n",
        "Freq: D, Name: A, dtype: float64"
       ]
      }
     ],
     "prompt_number": 18
    },
    {
     "cell_type": "code",
     "collapsed": false,
     "input": [
      "df[0:3]"
     ],
     "language": "python",
     "metadata": {},
     "outputs": [
      {
       "html": [
        "<div style=\"max-height:1000px;max-width:1500px;overflow:auto;\">\n",
        "<table border=\"1\" class=\"dataframe\">\n",
        "  <thead>\n",
        "    <tr style=\"text-align: right;\">\n",
        "      <th></th>\n",
        "      <th>A</th>\n",
        "      <th>B</th>\n",
        "      <th>C</th>\n",
        "      <th>D</th>\n",
        "    </tr>\n",
        "  </thead>\n",
        "  <tbody>\n",
        "    <tr>\n",
        "      <th>2013-01-01</th>\n",
        "      <td> 0.042345</td>\n",
        "      <td> 0.158389</td>\n",
        "      <td>-0.851400</td>\n",
        "      <td> 0.961354</td>\n",
        "    </tr>\n",
        "    <tr>\n",
        "      <th>2013-01-02</th>\n",
        "      <td>-0.912974</td>\n",
        "      <td> 3.206082</td>\n",
        "      <td> 2.029802</td>\n",
        "      <td>-0.218770</td>\n",
        "    </tr>\n",
        "    <tr>\n",
        "      <th>2013-01-03</th>\n",
        "      <td>-1.273348</td>\n",
        "      <td>-0.712104</td>\n",
        "      <td> 2.016342</td>\n",
        "      <td> 0.789753</td>\n",
        "    </tr>\n",
        "  </tbody>\n",
        "</table>\n",
        "</div>"
       ],
       "metadata": {},
       "output_type": "pyout",
       "prompt_number": 19,
       "text": [
        "                   A         B         C         D\n",
        "2013-01-01  0.042345  0.158389 -0.851400  0.961354\n",
        "2013-01-02 -0.912974  3.206082  2.029802 -0.218770\n",
        "2013-01-03 -1.273348 -0.712104  2.016342  0.789753"
       ]
      }
     ],
     "prompt_number": 19
    },
    {
     "cell_type": "code",
     "collapsed": false,
     "input": [
      "df['20130102':'20130104']"
     ],
     "language": "python",
     "metadata": {},
     "outputs": [
      {
       "html": [
        "<div style=\"max-height:1000px;max-width:1500px;overflow:auto;\">\n",
        "<table border=\"1\" class=\"dataframe\">\n",
        "  <thead>\n",
        "    <tr style=\"text-align: right;\">\n",
        "      <th></th>\n",
        "      <th>A</th>\n",
        "      <th>B</th>\n",
        "      <th>C</th>\n",
        "      <th>D</th>\n",
        "    </tr>\n",
        "  </thead>\n",
        "  <tbody>\n",
        "    <tr>\n",
        "      <th>2013-01-02</th>\n",
        "      <td>-0.912974</td>\n",
        "      <td> 3.206082</td>\n",
        "      <td> 2.029802</td>\n",
        "      <td>-0.218770</td>\n",
        "    </tr>\n",
        "    <tr>\n",
        "      <th>2013-01-03</th>\n",
        "      <td>-1.273348</td>\n",
        "      <td>-0.712104</td>\n",
        "      <td> 2.016342</td>\n",
        "      <td> 0.789753</td>\n",
        "    </tr>\n",
        "    <tr>\n",
        "      <th>2013-01-04</th>\n",
        "      <td>-0.699427</td>\n",
        "      <td>-0.506354</td>\n",
        "      <td> 0.492272</td>\n",
        "      <td>-0.582514</td>\n",
        "    </tr>\n",
        "  </tbody>\n",
        "</table>\n",
        "</div>"
       ],
       "metadata": {},
       "output_type": "pyout",
       "prompt_number": 20,
       "text": [
        "                   A         B         C         D\n",
        "2013-01-02 -0.912974  3.206082  2.029802 -0.218770\n",
        "2013-01-03 -1.273348 -0.712104  2.016342  0.789753\n",
        "2013-01-04 -0.699427 -0.506354  0.492272 -0.582514"
       ]
      }
     ],
     "prompt_number": 20
    },
    {
     "cell_type": "code",
     "collapsed": false,
     "input": [
      "df.loc[dates[0]]"
     ],
     "language": "python",
     "metadata": {},
     "outputs": [
      {
       "metadata": {},
       "output_type": "pyout",
       "prompt_number": 21,
       "text": [
        "A    0.042345\n",
        "B    0.158389\n",
        "C   -0.851400\n",
        "D    0.961354\n",
        "Name: 2013-01-01 00:00:00, dtype: float64"
       ]
      }
     ],
     "prompt_number": 21
    },
    {
     "cell_type": "code",
     "collapsed": false,
     "input": [
      "df.loc[:, ['A', 'B']]"
     ],
     "language": "python",
     "metadata": {},
     "outputs": [
      {
       "html": [
        "<div style=\"max-height:1000px;max-width:1500px;overflow:auto;\">\n",
        "<table border=\"1\" class=\"dataframe\">\n",
        "  <thead>\n",
        "    <tr style=\"text-align: right;\">\n",
        "      <th></th>\n",
        "      <th>A</th>\n",
        "      <th>B</th>\n",
        "    </tr>\n",
        "  </thead>\n",
        "  <tbody>\n",
        "    <tr>\n",
        "      <th>2013-01-01</th>\n",
        "      <td> 0.042345</td>\n",
        "      <td> 0.158389</td>\n",
        "    </tr>\n",
        "    <tr>\n",
        "      <th>2013-01-02</th>\n",
        "      <td>-0.912974</td>\n",
        "      <td> 3.206082</td>\n",
        "    </tr>\n",
        "    <tr>\n",
        "      <th>2013-01-03</th>\n",
        "      <td>-1.273348</td>\n",
        "      <td>-0.712104</td>\n",
        "    </tr>\n",
        "    <tr>\n",
        "      <th>2013-01-04</th>\n",
        "      <td>-0.699427</td>\n",
        "      <td>-0.506354</td>\n",
        "    </tr>\n",
        "    <tr>\n",
        "      <th>2013-01-05</th>\n",
        "      <td>-0.671727</td>\n",
        "      <td> 0.384946</td>\n",
        "    </tr>\n",
        "    <tr>\n",
        "      <th>2013-01-06</th>\n",
        "      <td>-0.373994</td>\n",
        "      <td> 0.183951</td>\n",
        "    </tr>\n",
        "  </tbody>\n",
        "</table>\n",
        "</div>"
       ],
       "metadata": {},
       "output_type": "pyout",
       "prompt_number": 22,
       "text": [
        "                   A         B\n",
        "2013-01-01  0.042345  0.158389\n",
        "2013-01-02 -0.912974  3.206082\n",
        "2013-01-03 -1.273348 -0.712104\n",
        "2013-01-04 -0.699427 -0.506354\n",
        "2013-01-05 -0.671727  0.384946\n",
        "2013-01-06 -0.373994  0.183951"
       ]
      }
     ],
     "prompt_number": 22
    },
    {
     "cell_type": "code",
     "collapsed": false,
     "input": [
      "df.loc['20130102':'20130104', ['A', 'B']]"
     ],
     "language": "python",
     "metadata": {},
     "outputs": [
      {
       "html": [
        "<div style=\"max-height:1000px;max-width:1500px;overflow:auto;\">\n",
        "<table border=\"1\" class=\"dataframe\">\n",
        "  <thead>\n",
        "    <tr style=\"text-align: right;\">\n",
        "      <th></th>\n",
        "      <th>A</th>\n",
        "      <th>B</th>\n",
        "    </tr>\n",
        "  </thead>\n",
        "  <tbody>\n",
        "    <tr>\n",
        "      <th>2013-01-02</th>\n",
        "      <td>-0.912974</td>\n",
        "      <td> 3.206082</td>\n",
        "    </tr>\n",
        "    <tr>\n",
        "      <th>2013-01-03</th>\n",
        "      <td>-1.273348</td>\n",
        "      <td>-0.712104</td>\n",
        "    </tr>\n",
        "    <tr>\n",
        "      <th>2013-01-04</th>\n",
        "      <td>-0.699427</td>\n",
        "      <td>-0.506354</td>\n",
        "    </tr>\n",
        "  </tbody>\n",
        "</table>\n",
        "</div>"
       ],
       "metadata": {},
       "output_type": "pyout",
       "prompt_number": 23,
       "text": [
        "                   A         B\n",
        "2013-01-02 -0.912974  3.206082\n",
        "2013-01-03 -1.273348 -0.712104\n",
        "2013-01-04 -0.699427 -0.506354"
       ]
      }
     ],
     "prompt_number": 23
    },
    {
     "cell_type": "code",
     "collapsed": false,
     "input": [
      "df.loc['20130102', ['A', 'B']]"
     ],
     "language": "python",
     "metadata": {},
     "outputs": [
      {
       "metadata": {},
       "output_type": "pyout",
       "prompt_number": 24,
       "text": [
        "A   -0.912974\n",
        "B    3.206082\n",
        "Name: 2013-01-02 00:00:00, dtype: float64"
       ]
      }
     ],
     "prompt_number": 24
    },
    {
     "cell_type": "code",
     "collapsed": false,
     "input": [
      "df.at[dates[0], 'A']"
     ],
     "language": "python",
     "metadata": {},
     "outputs": [
      {
       "metadata": {},
       "output_type": "pyout",
       "prompt_number": 25,
       "text": [
        "0.042344658501950926"
       ]
      }
     ],
     "prompt_number": 25
    },
    {
     "cell_type": "code",
     "collapsed": false,
     "input": [
      "df.iloc[3]"
     ],
     "language": "python",
     "metadata": {},
     "outputs": [
      {
       "metadata": {},
       "output_type": "pyout",
       "prompt_number": 26,
       "text": [
        "A   -0.699427\n",
        "B   -0.506354\n",
        "C    0.492272\n",
        "D   -0.582514\n",
        "Name: 2013-01-04 00:00:00, dtype: float64"
       ]
      }
     ],
     "prompt_number": 26
    },
    {
     "cell_type": "code",
     "collapsed": false,
     "input": [
      "df.iloc[3:5, 0:2]"
     ],
     "language": "python",
     "metadata": {},
     "outputs": [
      {
       "html": [
        "<div style=\"max-height:1000px;max-width:1500px;overflow:auto;\">\n",
        "<table border=\"1\" class=\"dataframe\">\n",
        "  <thead>\n",
        "    <tr style=\"text-align: right;\">\n",
        "      <th></th>\n",
        "      <th>A</th>\n",
        "      <th>B</th>\n",
        "    </tr>\n",
        "  </thead>\n",
        "  <tbody>\n",
        "    <tr>\n",
        "      <th>2013-01-04</th>\n",
        "      <td>-0.699427</td>\n",
        "      <td>-0.506354</td>\n",
        "    </tr>\n",
        "    <tr>\n",
        "      <th>2013-01-05</th>\n",
        "      <td>-0.671727</td>\n",
        "      <td> 0.384946</td>\n",
        "    </tr>\n",
        "  </tbody>\n",
        "</table>\n",
        "</div>"
       ],
       "metadata": {},
       "output_type": "pyout",
       "prompt_number": 27,
       "text": [
        "                   A         B\n",
        "2013-01-04 -0.699427 -0.506354\n",
        "2013-01-05 -0.671727  0.384946"
       ]
      }
     ],
     "prompt_number": 27
    },
    {
     "cell_type": "code",
     "collapsed": false,
     "input": [
      "df.iloc[1:3, :]"
     ],
     "language": "python",
     "metadata": {},
     "outputs": [
      {
       "html": [
        "<div style=\"max-height:1000px;max-width:1500px;overflow:auto;\">\n",
        "<table border=\"1\" class=\"dataframe\">\n",
        "  <thead>\n",
        "    <tr style=\"text-align: right;\">\n",
        "      <th></th>\n",
        "      <th>A</th>\n",
        "      <th>B</th>\n",
        "      <th>C</th>\n",
        "      <th>D</th>\n",
        "    </tr>\n",
        "  </thead>\n",
        "  <tbody>\n",
        "    <tr>\n",
        "      <th>2013-01-02</th>\n",
        "      <td>-0.912974</td>\n",
        "      <td> 3.206082</td>\n",
        "      <td> 2.029802</td>\n",
        "      <td>-0.218770</td>\n",
        "    </tr>\n",
        "    <tr>\n",
        "      <th>2013-01-03</th>\n",
        "      <td>-1.273348</td>\n",
        "      <td>-0.712104</td>\n",
        "      <td> 2.016342</td>\n",
        "      <td> 0.789753</td>\n",
        "    </tr>\n",
        "  </tbody>\n",
        "</table>\n",
        "</div>"
       ],
       "metadata": {},
       "output_type": "pyout",
       "prompt_number": 28,
       "text": [
        "                   A         B         C         D\n",
        "2013-01-02 -0.912974  3.206082  2.029802 -0.218770\n",
        "2013-01-03 -1.273348 -0.712104  2.016342  0.789753"
       ]
      }
     ],
     "prompt_number": 28
    },
    {
     "cell_type": "code",
     "collapsed": false,
     "input": [
      "df.iloc[:, 1:3]"
     ],
     "language": "python",
     "metadata": {},
     "outputs": [
      {
       "html": [
        "<div style=\"max-height:1000px;max-width:1500px;overflow:auto;\">\n",
        "<table border=\"1\" class=\"dataframe\">\n",
        "  <thead>\n",
        "    <tr style=\"text-align: right;\">\n",
        "      <th></th>\n",
        "      <th>B</th>\n",
        "      <th>C</th>\n",
        "    </tr>\n",
        "  </thead>\n",
        "  <tbody>\n",
        "    <tr>\n",
        "      <th>2013-01-01</th>\n",
        "      <td> 0.158389</td>\n",
        "      <td>-0.851400</td>\n",
        "    </tr>\n",
        "    <tr>\n",
        "      <th>2013-01-02</th>\n",
        "      <td> 3.206082</td>\n",
        "      <td> 2.029802</td>\n",
        "    </tr>\n",
        "    <tr>\n",
        "      <th>2013-01-03</th>\n",
        "      <td>-0.712104</td>\n",
        "      <td> 2.016342</td>\n",
        "    </tr>\n",
        "    <tr>\n",
        "      <th>2013-01-04</th>\n",
        "      <td>-0.506354</td>\n",
        "      <td> 0.492272</td>\n",
        "    </tr>\n",
        "    <tr>\n",
        "      <th>2013-01-05</th>\n",
        "      <td> 0.384946</td>\n",
        "      <td>-0.533715</td>\n",
        "    </tr>\n",
        "    <tr>\n",
        "      <th>2013-01-06</th>\n",
        "      <td> 0.183951</td>\n",
        "      <td>-0.545556</td>\n",
        "    </tr>\n",
        "  </tbody>\n",
        "</table>\n",
        "</div>"
       ],
       "metadata": {},
       "output_type": "pyout",
       "prompt_number": 30,
       "text": [
        "                   B         C\n",
        "2013-01-01  0.158389 -0.851400\n",
        "2013-01-02  3.206082  2.029802\n",
        "2013-01-03 -0.712104  2.016342\n",
        "2013-01-04 -0.506354  0.492272\n",
        "2013-01-05  0.384946 -0.533715\n",
        "2013-01-06  0.183951 -0.545556"
       ]
      }
     ],
     "prompt_number": 30
    },
    {
     "cell_type": "code",
     "collapsed": false,
     "input": [
      "df.iat[1,1]"
     ],
     "language": "python",
     "metadata": {},
     "outputs": [
      {
       "metadata": {},
       "output_type": "pyout",
       "prompt_number": 31,
       "text": [
        "3.206082041070911"
       ]
      }
     ],
     "prompt_number": 31
    },
    {
     "cell_type": "code",
     "collapsed": false,
     "input": [
      "df[df.A > 0]"
     ],
     "language": "python",
     "metadata": {},
     "outputs": [
      {
       "html": [
        "<div style=\"max-height:1000px;max-width:1500px;overflow:auto;\">\n",
        "<table border=\"1\" class=\"dataframe\">\n",
        "  <thead>\n",
        "    <tr style=\"text-align: right;\">\n",
        "      <th></th>\n",
        "      <th>A</th>\n",
        "      <th>B</th>\n",
        "      <th>C</th>\n",
        "      <th>D</th>\n",
        "    </tr>\n",
        "  </thead>\n",
        "  <tbody>\n",
        "    <tr>\n",
        "      <th>2013-01-01</th>\n",
        "      <td> 0.042345</td>\n",
        "      <td> 0.158389</td>\n",
        "      <td>-0.8514</td>\n",
        "      <td> 0.961354</td>\n",
        "    </tr>\n",
        "  </tbody>\n",
        "</table>\n",
        "</div>"
       ],
       "metadata": {},
       "output_type": "pyout",
       "prompt_number": 32,
       "text": [
        "                   A         B       C         D\n",
        "2013-01-01  0.042345  0.158389 -0.8514  0.961354"
       ]
      }
     ],
     "prompt_number": 32
    },
    {
     "cell_type": "code",
     "collapsed": false,
     "input": [
      "df[df>0]"
     ],
     "language": "python",
     "metadata": {},
     "outputs": [
      {
       "html": [
        "<div style=\"max-height:1000px;max-width:1500px;overflow:auto;\">\n",
        "<table border=\"1\" class=\"dataframe\">\n",
        "  <thead>\n",
        "    <tr style=\"text-align: right;\">\n",
        "      <th></th>\n",
        "      <th>A</th>\n",
        "      <th>B</th>\n",
        "      <th>C</th>\n",
        "      <th>D</th>\n",
        "    </tr>\n",
        "  </thead>\n",
        "  <tbody>\n",
        "    <tr>\n",
        "      <th>2013-01-01</th>\n",
        "      <td> 0.042345</td>\n",
        "      <td> 0.158389</td>\n",
        "      <td>      NaN</td>\n",
        "      <td> 0.961354</td>\n",
        "    </tr>\n",
        "    <tr>\n",
        "      <th>2013-01-02</th>\n",
        "      <td>      NaN</td>\n",
        "      <td> 3.206082</td>\n",
        "      <td> 2.029802</td>\n",
        "      <td>      NaN</td>\n",
        "    </tr>\n",
        "    <tr>\n",
        "      <th>2013-01-03</th>\n",
        "      <td>      NaN</td>\n",
        "      <td>      NaN</td>\n",
        "      <td> 2.016342</td>\n",
        "      <td> 0.789753</td>\n",
        "    </tr>\n",
        "    <tr>\n",
        "      <th>2013-01-04</th>\n",
        "      <td>      NaN</td>\n",
        "      <td>      NaN</td>\n",
        "      <td> 0.492272</td>\n",
        "      <td>      NaN</td>\n",
        "    </tr>\n",
        "    <tr>\n",
        "      <th>2013-01-05</th>\n",
        "      <td>      NaN</td>\n",
        "      <td> 0.384946</td>\n",
        "      <td>      NaN</td>\n",
        "      <td> 0.252866</td>\n",
        "    </tr>\n",
        "    <tr>\n",
        "      <th>2013-01-06</th>\n",
        "      <td>      NaN</td>\n",
        "      <td> 0.183951</td>\n",
        "      <td>      NaN</td>\n",
        "      <td>      NaN</td>\n",
        "    </tr>\n",
        "  </tbody>\n",
        "</table>\n",
        "</div>"
       ],
       "metadata": {},
       "output_type": "pyout",
       "prompt_number": 34,
       "text": [
        "                   A         B         C         D\n",
        "2013-01-01  0.042345  0.158389       NaN  0.961354\n",
        "2013-01-02       NaN  3.206082  2.029802       NaN\n",
        "2013-01-03       NaN       NaN  2.016342  0.789753\n",
        "2013-01-04       NaN       NaN  0.492272       NaN\n",
        "2013-01-05       NaN  0.384946       NaN  0.252866\n",
        "2013-01-06       NaN  0.183951       NaN       NaN"
       ]
      }
     ],
     "prompt_number": 34
    },
    {
     "cell_type": "code",
     "collapsed": false,
     "input": [
      "df2 = df.copy()"
     ],
     "language": "python",
     "metadata": {},
     "outputs": [],
     "prompt_number": 35
    },
    {
     "cell_type": "code",
     "collapsed": false,
     "input": [
      "df2['E'] = ['one', 'one', 'two', 'three', 'four', 'three']\n",
      "print df2"
     ],
     "language": "python",
     "metadata": {},
     "outputs": [
      {
       "output_type": "stream",
       "stream": "stdout",
       "text": [
        "                   A         B         C         D      E\n",
        "2013-01-01  0.042345  0.158389 -0.851400  0.961354    one\n",
        "2013-01-02 -0.912974  3.206082  2.029802 -0.218770    one\n",
        "2013-01-03 -1.273348 -0.712104  2.016342  0.789753    two\n",
        "2013-01-04 -0.699427 -0.506354  0.492272 -0.582514  three\n",
        "2013-01-05 -0.671727  0.384946 -0.533715  0.252866   four\n",
        "2013-01-06 -0.373994  0.183951 -0.545556 -0.368279  three\n"
       ]
      }
     ],
     "prompt_number": 37
    },
    {
     "cell_type": "code",
     "collapsed": false,
     "input": [
      "df2[df2['E'].isin(['two', 'four'])]"
     ],
     "language": "python",
     "metadata": {},
     "outputs": [
      {
       "html": [
        "<div style=\"max-height:1000px;max-width:1500px;overflow:auto;\">\n",
        "<table border=\"1\" class=\"dataframe\">\n",
        "  <thead>\n",
        "    <tr style=\"text-align: right;\">\n",
        "      <th></th>\n",
        "      <th>A</th>\n",
        "      <th>B</th>\n",
        "      <th>C</th>\n",
        "      <th>D</th>\n",
        "      <th>E</th>\n",
        "    </tr>\n",
        "  </thead>\n",
        "  <tbody>\n",
        "    <tr>\n",
        "      <th>2013-01-03</th>\n",
        "      <td>-1.273348</td>\n",
        "      <td>-0.712104</td>\n",
        "      <td> 2.016342</td>\n",
        "      <td> 0.789753</td>\n",
        "      <td>  two</td>\n",
        "    </tr>\n",
        "    <tr>\n",
        "      <th>2013-01-05</th>\n",
        "      <td>-0.671727</td>\n",
        "      <td> 0.384946</td>\n",
        "      <td>-0.533715</td>\n",
        "      <td> 0.252866</td>\n",
        "      <td> four</td>\n",
        "    </tr>\n",
        "  </tbody>\n",
        "</table>\n",
        "</div>"
       ],
       "metadata": {},
       "output_type": "pyout",
       "prompt_number": 38,
       "text": [
        "                   A         B         C         D     E\n",
        "2013-01-03 -1.273348 -0.712104  2.016342  0.789753   two\n",
        "2013-01-05 -0.671727  0.384946 -0.533715  0.252866  four"
       ]
      }
     ],
     "prompt_number": 38
    },
    {
     "cell_type": "code",
     "collapsed": false,
     "input": [
      "s1 = Series([1,2,3,4,5,6], index = date_range('20130102', periods = 6))\n",
      "print s1 \n",
      "df['F'] = s1\n",
      "print df\n",
      "df.at[dates[0], 'A'] = 0\n",
      "df.iat[0,1] = 0"
     ],
     "language": "python",
     "metadata": {},
     "outputs": [
      {
       "output_type": "stream",
       "stream": "stdout",
       "text": [
        "2013-01-02    1\n",
        "2013-01-03    2\n",
        "2013-01-04    3\n",
        "2013-01-05    4\n",
        "2013-01-06    5\n",
        "2013-01-07    6\n",
        "Freq: D, dtype: int64\n",
        "                   A         B         C         D   F\n",
        "2013-01-01  0.042345  0.158389 -0.851400  0.961354 NaN\n",
        "2013-01-02 -0.912974  3.206082  2.029802 -0.218770   1\n",
        "2013-01-03 -1.273348 -0.712104  2.016342  0.789753   2\n",
        "2013-01-04 -0.699427 -0.506354  0.492272 -0.582514   3\n",
        "2013-01-05 -0.671727  0.384946 -0.533715  0.252866   4\n",
        "2013-01-06 -0.373994  0.183951 -0.545556 -0.368279   5\n"
       ]
      }
     ],
     "prompt_number": 41
    },
    {
     "cell_type": "code",
     "collapsed": false,
     "input": [
      "df.loc[:, 'D'] = np.array([5] * len(df))\n",
      "print df"
     ],
     "language": "python",
     "metadata": {},
     "outputs": [
      {
       "output_type": "stream",
       "stream": "stdout",
       "text": [
        "                   A         B         C  D   F\n",
        "2013-01-01  0.000000  0.000000 -0.851400  5 NaN\n",
        "2013-01-02 -0.912974  3.206082  2.029802  5   1\n",
        "2013-01-03 -1.273348 -0.712104  2.016342  5   2\n",
        "2013-01-04 -0.699427 -0.506354  0.492272  5   3\n",
        "2013-01-05 -0.671727  0.384946 -0.533715  5   4\n",
        "2013-01-06 -0.373994  0.183951 -0.545556  5   5\n"
       ]
      }
     ],
     "prompt_number": 42
    },
    {
     "cell_type": "code",
     "collapsed": false,
     "input": [
      "df2 = df.copy()\n",
      "df2[df2 > 0] = -df2\n",
      "print df2"
     ],
     "language": "python",
     "metadata": {},
     "outputs": [
      {
       "output_type": "stream",
       "stream": "stdout",
       "text": [
        "                   A         B         C  D   F\n",
        "2013-01-01  0.000000  0.000000 -0.851400 -5 NaN\n",
        "2013-01-02 -0.912974 -3.206082 -2.029802 -5  -1\n",
        "2013-01-03 -1.273348 -0.712104 -2.016342 -5  -2\n",
        "2013-01-04 -0.699427 -0.506354 -0.492272 -5  -3\n",
        "2013-01-05 -0.671727 -0.384946 -0.533715 -5  -4\n",
        "2013-01-06 -0.373994 -0.183951 -0.545556 -5  -5\n"
       ]
      }
     ],
     "prompt_number": 43
    },
    {
     "cell_type": "code",
     "collapsed": false,
     "input": [
      "df1 = df.reindex(index=dates[0:4], columns=list(df.columns) + ['E'])\n",
      "df1.loc[dates[0]:dates[1], 'E'] = 1\n",
      "df1"
     ],
     "language": "python",
     "metadata": {},
     "outputs": [
      {
       "html": [
        "<div style=\"max-height:1000px;max-width:1500px;overflow:auto;\">\n",
        "<table border=\"1\" class=\"dataframe\">\n",
        "  <thead>\n",
        "    <tr style=\"text-align: right;\">\n",
        "      <th></th>\n",
        "      <th>A</th>\n",
        "      <th>B</th>\n",
        "      <th>C</th>\n",
        "      <th>D</th>\n",
        "      <th>F</th>\n",
        "      <th>E</th>\n",
        "    </tr>\n",
        "  </thead>\n",
        "  <tbody>\n",
        "    <tr>\n",
        "      <th>2013-01-01</th>\n",
        "      <td> 0.000000</td>\n",
        "      <td> 0.000000</td>\n",
        "      <td>-0.851400</td>\n",
        "      <td> 5</td>\n",
        "      <td>NaN</td>\n",
        "      <td>  1</td>\n",
        "    </tr>\n",
        "    <tr>\n",
        "      <th>2013-01-02</th>\n",
        "      <td>-0.912974</td>\n",
        "      <td> 3.206082</td>\n",
        "      <td> 2.029802</td>\n",
        "      <td> 5</td>\n",
        "      <td>  1</td>\n",
        "      <td>  1</td>\n",
        "    </tr>\n",
        "    <tr>\n",
        "      <th>2013-01-03</th>\n",
        "      <td>-1.273348</td>\n",
        "      <td>-0.712104</td>\n",
        "      <td> 2.016342</td>\n",
        "      <td> 5</td>\n",
        "      <td>  2</td>\n",
        "      <td>NaN</td>\n",
        "    </tr>\n",
        "    <tr>\n",
        "      <th>2013-01-04</th>\n",
        "      <td>-0.699427</td>\n",
        "      <td>-0.506354</td>\n",
        "      <td> 0.492272</td>\n",
        "      <td> 5</td>\n",
        "      <td>  3</td>\n",
        "      <td>NaN</td>\n",
        "    </tr>\n",
        "  </tbody>\n",
        "</table>\n",
        "</div>"
       ],
       "metadata": {},
       "output_type": "pyout",
       "prompt_number": 44,
       "text": [
        "                   A         B         C  D   F   E\n",
        "2013-01-01  0.000000  0.000000 -0.851400  5 NaN   1\n",
        "2013-01-02 -0.912974  3.206082  2.029802  5   1   1\n",
        "2013-01-03 -1.273348 -0.712104  2.016342  5   2 NaN\n",
        "2013-01-04 -0.699427 -0.506354  0.492272  5   3 NaN"
       ]
      }
     ],
     "prompt_number": 44
    },
    {
     "cell_type": "code",
     "collapsed": false,
     "input": [
      "df1.dropna(how = 'any')"
     ],
     "language": "python",
     "metadata": {},
     "outputs": [
      {
       "html": [
        "<div style=\"max-height:1000px;max-width:1500px;overflow:auto;\">\n",
        "<table border=\"1\" class=\"dataframe\">\n",
        "  <thead>\n",
        "    <tr style=\"text-align: right;\">\n",
        "      <th></th>\n",
        "      <th>A</th>\n",
        "      <th>B</th>\n",
        "      <th>C</th>\n",
        "      <th>D</th>\n",
        "      <th>F</th>\n",
        "      <th>E</th>\n",
        "    </tr>\n",
        "  </thead>\n",
        "  <tbody>\n",
        "    <tr>\n",
        "      <th>2013-01-02</th>\n",
        "      <td>-0.912974</td>\n",
        "      <td> 3.206082</td>\n",
        "      <td> 2.029802</td>\n",
        "      <td> 5</td>\n",
        "      <td> 1</td>\n",
        "      <td> 1</td>\n",
        "    </tr>\n",
        "  </tbody>\n",
        "</table>\n",
        "</div>"
       ],
       "metadata": {},
       "output_type": "pyout",
       "prompt_number": 45,
       "text": [
        "                   A         B         C  D  F  E\n",
        "2013-01-02 -0.912974  3.206082  2.029802  5  1  1"
       ]
      }
     ],
     "prompt_number": 45
    },
    {
     "cell_type": "code",
     "collapsed": false,
     "input": [
      "df1.fillna(value = 5)"
     ],
     "language": "python",
     "metadata": {},
     "outputs": [
      {
       "html": [
        "<div style=\"max-height:1000px;max-width:1500px;overflow:auto;\">\n",
        "<table border=\"1\" class=\"dataframe\">\n",
        "  <thead>\n",
        "    <tr style=\"text-align: right;\">\n",
        "      <th></th>\n",
        "      <th>A</th>\n",
        "      <th>B</th>\n",
        "      <th>C</th>\n",
        "      <th>D</th>\n",
        "      <th>F</th>\n",
        "      <th>E</th>\n",
        "    </tr>\n",
        "  </thead>\n",
        "  <tbody>\n",
        "    <tr>\n",
        "      <th>2013-01-01</th>\n",
        "      <td> 0.000000</td>\n",
        "      <td> 0.000000</td>\n",
        "      <td>-0.851400</td>\n",
        "      <td> 5</td>\n",
        "      <td> 5</td>\n",
        "      <td> 1</td>\n",
        "    </tr>\n",
        "    <tr>\n",
        "      <th>2013-01-02</th>\n",
        "      <td>-0.912974</td>\n",
        "      <td> 3.206082</td>\n",
        "      <td> 2.029802</td>\n",
        "      <td> 5</td>\n",
        "      <td> 1</td>\n",
        "      <td> 1</td>\n",
        "    </tr>\n",
        "    <tr>\n",
        "      <th>2013-01-03</th>\n",
        "      <td>-1.273348</td>\n",
        "      <td>-0.712104</td>\n",
        "      <td> 2.016342</td>\n",
        "      <td> 5</td>\n",
        "      <td> 2</td>\n",
        "      <td> 5</td>\n",
        "    </tr>\n",
        "    <tr>\n",
        "      <th>2013-01-04</th>\n",
        "      <td>-0.699427</td>\n",
        "      <td>-0.506354</td>\n",
        "      <td> 0.492272</td>\n",
        "      <td> 5</td>\n",
        "      <td> 3</td>\n",
        "      <td> 5</td>\n",
        "    </tr>\n",
        "  </tbody>\n",
        "</table>\n",
        "</div>"
       ],
       "metadata": {},
       "output_type": "pyout",
       "prompt_number": 46,
       "text": [
        "                   A         B         C  D  F  E\n",
        "2013-01-01  0.000000  0.000000 -0.851400  5  5  1\n",
        "2013-01-02 -0.912974  3.206082  2.029802  5  1  1\n",
        "2013-01-03 -1.273348 -0.712104  2.016342  5  2  5\n",
        "2013-01-04 -0.699427 -0.506354  0.492272  5  3  5"
       ]
      }
     ],
     "prompt_number": 46
    },
    {
     "cell_type": "code",
     "collapsed": false,
     "input": [
      "isnull(df1)"
     ],
     "language": "python",
     "metadata": {},
     "outputs": [
      {
       "html": [
        "<div style=\"max-height:1000px;max-width:1500px;overflow:auto;\">\n",
        "<table border=\"1\" class=\"dataframe\">\n",
        "  <thead>\n",
        "    <tr style=\"text-align: right;\">\n",
        "      <th></th>\n",
        "      <th>A</th>\n",
        "      <th>B</th>\n",
        "      <th>C</th>\n",
        "      <th>D</th>\n",
        "      <th>F</th>\n",
        "      <th>E</th>\n",
        "    </tr>\n",
        "  </thead>\n",
        "  <tbody>\n",
        "    <tr>\n",
        "      <th>2013-01-01</th>\n",
        "      <td> False</td>\n",
        "      <td> False</td>\n",
        "      <td> False</td>\n",
        "      <td> False</td>\n",
        "      <td>  True</td>\n",
        "      <td> False</td>\n",
        "    </tr>\n",
        "    <tr>\n",
        "      <th>2013-01-02</th>\n",
        "      <td> False</td>\n",
        "      <td> False</td>\n",
        "      <td> False</td>\n",
        "      <td> False</td>\n",
        "      <td> False</td>\n",
        "      <td> False</td>\n",
        "    </tr>\n",
        "    <tr>\n",
        "      <th>2013-01-03</th>\n",
        "      <td> False</td>\n",
        "      <td> False</td>\n",
        "      <td> False</td>\n",
        "      <td> False</td>\n",
        "      <td> False</td>\n",
        "      <td>  True</td>\n",
        "    </tr>\n",
        "    <tr>\n",
        "      <th>2013-01-04</th>\n",
        "      <td> False</td>\n",
        "      <td> False</td>\n",
        "      <td> False</td>\n",
        "      <td> False</td>\n",
        "      <td> False</td>\n",
        "      <td>  True</td>\n",
        "    </tr>\n",
        "  </tbody>\n",
        "</table>\n",
        "</div>"
       ],
       "metadata": {},
       "output_type": "pyout",
       "prompt_number": 47,
       "text": [
        "                A      B      C      D      F      E\n",
        "2013-01-01  False  False  False  False   True  False\n",
        "2013-01-02  False  False  False  False  False  False\n",
        "2013-01-03  False  False  False  False  False   True\n",
        "2013-01-04  False  False  False  False  False   True"
       ]
      }
     ],
     "prompt_number": 47
    },
    {
     "cell_type": "code",
     "collapsed": false,
     "input": [
      "print df.mean()\n",
      "print df.mean(1)"
     ],
     "language": "python",
     "metadata": {},
     "outputs": [
      {
       "output_type": "stream",
       "stream": "stdout",
       "text": [
        "A   -0.655245\n",
        "B    0.426087\n",
        "C    0.434624\n",
        "D    5.000000\n",
        "F    3.000000\n",
        "dtype: float64\n",
        "2013-01-01    1.037150\n",
        "2013-01-02    2.064582\n",
        "2013-01-03    1.406178\n",
        "2013-01-04    1.457298\n",
        "2013-01-05    1.635901\n",
        "2013-01-06    1.852880\n",
        "Freq: D, dtype: float64\n"
       ]
      }
     ],
     "prompt_number": 48
    },
    {
     "cell_type": "code",
     "collapsed": false,
     "input": [
      "s = Series([1,3,5,np.nan,6,8], index=dates).shift(2)\n",
      "s"
     ],
     "language": "python",
     "metadata": {},
     "outputs": [
      {
       "metadata": {},
       "output_type": "pyout",
       "prompt_number": 50,
       "text": [
        "2013-01-01   NaN\n",
        "2013-01-02   NaN\n",
        "2013-01-03     1\n",
        "2013-01-04     3\n",
        "2013-01-05     5\n",
        "2013-01-06   NaN\n",
        "Freq: D, dtype: float64"
       ]
      }
     ],
     "prompt_number": 50
    },
    {
     "cell_type": "code",
     "collapsed": false,
     "input": [
      "df.sub(s, axis='index')"
     ],
     "language": "python",
     "metadata": {},
     "outputs": [
      {
       "html": [
        "<div style=\"max-height:1000px;max-width:1500px;overflow:auto;\">\n",
        "<table border=\"1\" class=\"dataframe\">\n",
        "  <thead>\n",
        "    <tr style=\"text-align: right;\">\n",
        "      <th></th>\n",
        "      <th>A</th>\n",
        "      <th>B</th>\n",
        "      <th>C</th>\n",
        "      <th>D</th>\n",
        "      <th>F</th>\n",
        "    </tr>\n",
        "  </thead>\n",
        "  <tbody>\n",
        "    <tr>\n",
        "      <th>2013-01-01</th>\n",
        "      <td>      NaN</td>\n",
        "      <td>      NaN</td>\n",
        "      <td>      NaN</td>\n",
        "      <td>NaN</td>\n",
        "      <td>NaN</td>\n",
        "    </tr>\n",
        "    <tr>\n",
        "      <th>2013-01-02</th>\n",
        "      <td>      NaN</td>\n",
        "      <td>      NaN</td>\n",
        "      <td>      NaN</td>\n",
        "      <td>NaN</td>\n",
        "      <td>NaN</td>\n",
        "    </tr>\n",
        "    <tr>\n",
        "      <th>2013-01-03</th>\n",
        "      <td>-2.273348</td>\n",
        "      <td>-1.712104</td>\n",
        "      <td> 1.016342</td>\n",
        "      <td>  4</td>\n",
        "      <td>  1</td>\n",
        "    </tr>\n",
        "    <tr>\n",
        "      <th>2013-01-04</th>\n",
        "      <td>-3.699427</td>\n",
        "      <td>-3.506354</td>\n",
        "      <td>-2.507728</td>\n",
        "      <td>  2</td>\n",
        "      <td>  0</td>\n",
        "    </tr>\n",
        "    <tr>\n",
        "      <th>2013-01-05</th>\n",
        "      <td>-5.671727</td>\n",
        "      <td>-4.615054</td>\n",
        "      <td>-5.533715</td>\n",
        "      <td>  0</td>\n",
        "      <td> -1</td>\n",
        "    </tr>\n",
        "    <tr>\n",
        "      <th>2013-01-06</th>\n",
        "      <td>      NaN</td>\n",
        "      <td>      NaN</td>\n",
        "      <td>      NaN</td>\n",
        "      <td>NaN</td>\n",
        "      <td>NaN</td>\n",
        "    </tr>\n",
        "  </tbody>\n",
        "</table>\n",
        "</div>"
       ],
       "metadata": {},
       "output_type": "pyout",
       "prompt_number": 51,
       "text": [
        "                   A         B         C   D   F\n",
        "2013-01-01       NaN       NaN       NaN NaN NaN\n",
        "2013-01-02       NaN       NaN       NaN NaN NaN\n",
        "2013-01-03 -2.273348 -1.712104  1.016342   4   1\n",
        "2013-01-04 -3.699427 -3.506354 -2.507728   2   0\n",
        "2013-01-05 -5.671727 -4.615054 -5.533715   0  -1\n",
        "2013-01-06       NaN       NaN       NaN NaN NaN"
       ]
      }
     ],
     "prompt_number": 51
    },
    {
     "cell_type": "code",
     "collapsed": false,
     "input": [
      "df.apply(np.cumsum)"
     ],
     "language": "python",
     "metadata": {},
     "outputs": [
      {
       "html": [
        "<div style=\"max-height:1000px;max-width:1500px;overflow:auto;\">\n",
        "<table border=\"1\" class=\"dataframe\">\n",
        "  <thead>\n",
        "    <tr style=\"text-align: right;\">\n",
        "      <th></th>\n",
        "      <th>A</th>\n",
        "      <th>B</th>\n",
        "      <th>C</th>\n",
        "      <th>D</th>\n",
        "      <th>F</th>\n",
        "    </tr>\n",
        "  </thead>\n",
        "  <tbody>\n",
        "    <tr>\n",
        "      <th>2013-01-01</th>\n",
        "      <td> 0.000000</td>\n",
        "      <td> 0.000000</td>\n",
        "      <td>-0.851400</td>\n",
        "      <td>  5</td>\n",
        "      <td>NaN</td>\n",
        "    </tr>\n",
        "    <tr>\n",
        "      <th>2013-01-02</th>\n",
        "      <td>-0.912974</td>\n",
        "      <td> 3.206082</td>\n",
        "      <td> 1.178402</td>\n",
        "      <td> 10</td>\n",
        "      <td>  1</td>\n",
        "    </tr>\n",
        "    <tr>\n",
        "      <th>2013-01-03</th>\n",
        "      <td>-2.186322</td>\n",
        "      <td> 2.493978</td>\n",
        "      <td> 3.194744</td>\n",
        "      <td> 15</td>\n",
        "      <td>  3</td>\n",
        "    </tr>\n",
        "    <tr>\n",
        "      <th>2013-01-04</th>\n",
        "      <td>-2.885749</td>\n",
        "      <td> 1.987624</td>\n",
        "      <td> 3.687016</td>\n",
        "      <td> 20</td>\n",
        "      <td>  6</td>\n",
        "    </tr>\n",
        "    <tr>\n",
        "      <th>2013-01-05</th>\n",
        "      <td>-3.557475</td>\n",
        "      <td> 2.372570</td>\n",
        "      <td> 3.153301</td>\n",
        "      <td> 25</td>\n",
        "      <td> 10</td>\n",
        "    </tr>\n",
        "    <tr>\n",
        "      <th>2013-01-06</th>\n",
        "      <td>-3.931470</td>\n",
        "      <td> 2.556522</td>\n",
        "      <td> 2.607745</td>\n",
        "      <td> 30</td>\n",
        "      <td> 15</td>\n",
        "    </tr>\n",
        "  </tbody>\n",
        "</table>\n",
        "</div>"
       ],
       "metadata": {},
       "output_type": "pyout",
       "prompt_number": 52,
       "text": [
        "                   A         B         C   D   F\n",
        "2013-01-01  0.000000  0.000000 -0.851400   5 NaN\n",
        "2013-01-02 -0.912974  3.206082  1.178402  10   1\n",
        "2013-01-03 -2.186322  2.493978  3.194744  15   3\n",
        "2013-01-04 -2.885749  1.987624  3.687016  20   6\n",
        "2013-01-05 -3.557475  2.372570  3.153301  25  10\n",
        "2013-01-06 -3.931470  2.556522  2.607745  30  15"
       ]
      }
     ],
     "prompt_number": 52
    },
    {
     "cell_type": "code",
     "collapsed": false,
     "input": [
      "df.apply(lambda x: x.max() - x.min())"
     ],
     "language": "python",
     "metadata": {},
     "outputs": [
      {
       "metadata": {},
       "output_type": "pyout",
       "prompt_number": 53,
       "text": [
        "A    1.273348\n",
        "B    3.918186\n",
        "C    2.881201\n",
        "D    0.000000\n",
        "F    4.000000\n",
        "dtype: float64"
       ]
      }
     ],
     "prompt_number": 53
    },
    {
     "cell_type": "code",
     "collapsed": false,
     "input": [
      "s = Series(np.random.randint(0,7,size=10))\n",
      "print s\n",
      "print s.value_counts()"
     ],
     "language": "python",
     "metadata": {},
     "outputs": [
      {
       "output_type": "stream",
       "stream": "stdout",
       "text": [
        "0    6\n",
        "1    0\n",
        "2    6\n",
        "3    5\n",
        "4    3\n",
        "5    6\n",
        "6    1\n",
        "7    6\n",
        "8    3\n",
        "9    6\n",
        "dtype: int32\n",
        "6    5\n",
        "3    2\n",
        "5    1\n",
        "1    1\n",
        "0    1\n",
        "dtype: int64\n"
       ]
      }
     ],
     "prompt_number": 55
    },
    {
     "cell_type": "code",
     "collapsed": false,
     "input": [
      "s = Series(['A', 'B', 'C', 'Aaba', 'Baca', np.nan, 'CABA', 'dog', 'cat'])\n",
      "s.str.lower()"
     ],
     "language": "python",
     "metadata": {},
     "outputs": [
      {
       "metadata": {},
       "output_type": "pyout",
       "prompt_number": 56,
       "text": [
        "0       a\n",
        "1       b\n",
        "2       c\n",
        "3    aaba\n",
        "4    baca\n",
        "5     NaN\n",
        "6    caba\n",
        "7     dog\n",
        "8     cat\n",
        "dtype: object"
       ]
      }
     ],
     "prompt_number": 56
    },
    {
     "cell_type": "code",
     "collapsed": false,
     "input": [
      "s.str.upper()"
     ],
     "language": "python",
     "metadata": {},
     "outputs": [
      {
       "metadata": {},
       "output_type": "pyout",
       "prompt_number": 57,
       "text": [
        "0       A\n",
        "1       B\n",
        "2       C\n",
        "3    AABA\n",
        "4    BACA\n",
        "5     NaN\n",
        "6    CABA\n",
        "7     DOG\n",
        "8     CAT\n",
        "dtype: object"
       ]
      }
     ],
     "prompt_number": 57
    },
    {
     "cell_type": "code",
     "collapsed": false,
     "input": [
      "df = DataFrame(np.random.randn(10,4))\n",
      "print df\n",
      "pieces = [df[:3], df[3:7], df[7:]]\n",
      "print concat(pieces)"
     ],
     "language": "python",
     "metadata": {},
     "outputs": [
      {
       "output_type": "stream",
       "stream": "stdout",
       "text": [
        "          0         1         2         3\n",
        "0  2.204831 -0.166234  0.701033  0.391758\n",
        "1  1.106728 -0.331615  2.024063 -1.628830\n",
        "2  0.278071  1.372734  0.785519  1.065990\n",
        "3 -1.701380 -1.614639 -1.122598 -0.639097\n",
        "4  0.954655 -1.606071  0.390755 -0.162367\n",
        "5 -0.250247  0.755738 -0.345874 -1.245918\n",
        "6 -0.367701  0.423440  1.764583  1.207401\n",
        "7  0.892942  0.032983  0.005047 -0.415439\n",
        "8  0.306126 -0.382189  1.946025  0.267073\n",
        "9  0.691870 -0.561363 -0.352636  0.724232\n",
        "          0         1         2         3\n",
        "0  2.204831 -0.166234  0.701033  0.391758\n",
        "1  1.106728 -0.331615  2.024063 -1.628830\n",
        "2  0.278071  1.372734  0.785519  1.065990\n",
        "3 -1.701380 -1.614639 -1.122598 -0.639097\n",
        "4  0.954655 -1.606071  0.390755 -0.162367\n",
        "5 -0.250247  0.755738 -0.345874 -1.245918\n",
        "6 -0.367701  0.423440  1.764583  1.207401\n",
        "7  0.892942  0.032983  0.005047 -0.415439\n",
        "8  0.306126 -0.382189  1.946025  0.267073\n",
        "9  0.691870 -0.561363 -0.352636  0.724232\n"
       ]
      }
     ],
     "prompt_number": 60
    },
    {
     "cell_type": "code",
     "collapsed": false,
     "input": [
      "left = DataFrame({'key' : ['foo', 'foo'], 'lval' : [1,2]})\n",
      "right = DataFrame({'key' : ['foo', 'foo'], 'rval' : [4,5]})\n",
      "\n",
      "print left\n",
      "print right\n",
      "\n",
      "print merge(left, right, on = 'key')"
     ],
     "language": "python",
     "metadata": {},
     "outputs": [
      {
       "output_type": "stream",
       "stream": "stdout",
       "text": [
        "   key  lval\n",
        "0  foo     1\n",
        "1  foo     2\n",
        "   key  rval\n",
        "0  foo     4\n",
        "1  foo     5\n",
        "   key  lval  rval\n",
        "0  foo     1     4\n",
        "1  foo     1     5\n",
        "2  foo     2     4\n",
        "3  foo     2     5"
       ]
      },
      {
       "output_type": "stream",
       "stream": "stdout",
       "text": [
        "\n"
       ]
      }
     ],
     "prompt_number": 61
    },
    {
     "cell_type": "code",
     "collapsed": false,
     "input": [
      "df = DataFrame(np.random.randn(8,4), columns = ['A', 'B', 'C', 'D'])\n",
      "print df\n",
      "\n",
      "s = df.iloc[3]\n",
      "print df.append(s, ignore_index = True)"
     ],
     "language": "python",
     "metadata": {},
     "outputs": [
      {
       "output_type": "stream",
       "stream": "stdout",
       "text": [
        "          A         B         C         D\n",
        "0  1.147185 -0.997354 -0.103048 -1.807633\n",
        "1  0.652317 -1.691922 -0.539705 -0.098037\n",
        "2  0.170422 -0.608547 -0.226867 -0.642464\n",
        "3 -0.322477 -0.115725  1.976223  1.218432\n",
        "4 -0.988618  0.327772  0.345339 -0.398525\n",
        "5  1.058921  1.108539 -1.107012 -1.424147\n",
        "6 -0.123521 -0.809905 -0.212632 -0.876551\n",
        "7  0.490039 -0.449509 -1.729609  0.687324\n",
        "          A         B         C         D\n",
        "0  1.147185 -0.997354 -0.103048 -1.807633\n",
        "1  0.652317 -1.691922 -0.539705 -0.098037\n",
        "2  0.170422 -0.608547 -0.226867 -0.642464\n",
        "3 -0.322477 -0.115725  1.976223  1.218432\n",
        "4 -0.988618  0.327772  0.345339 -0.398525\n",
        "5  1.058921  1.108539 -1.107012 -1.424147\n",
        "6 -0.123521 -0.809905 -0.212632 -0.876551\n",
        "7  0.490039 -0.449509 -1.729609  0.687324\n",
        "8 -0.322477 -0.115725  1.976223  1.218432\n"
       ]
      }
     ],
     "prompt_number": 62
    },
    {
     "cell_type": "code",
     "collapsed": false,
     "input": [
      "df = DataFrame({'A' : ['foo', 'bar', 'foo', 'bar', \n",
      "                       'foo', 'bar', 'foo', 'foo'],\n",
      "                'B' : ['one', 'one', 'two', 'three',\n",
      "                       'two', 'two', 'one', 'three'],\n",
      "                'C' : np.random.randn(8),\n",
      "                'D' : np.random.randn(8)})\n",
      "df"
     ],
     "language": "python",
     "metadata": {},
     "outputs": [
      {
       "html": [
        "<div style=\"max-height:1000px;max-width:1500px;overflow:auto;\">\n",
        "<table border=\"1\" class=\"dataframe\">\n",
        "  <thead>\n",
        "    <tr style=\"text-align: right;\">\n",
        "      <th></th>\n",
        "      <th>A</th>\n",
        "      <th>B</th>\n",
        "      <th>C</th>\n",
        "      <th>D</th>\n",
        "    </tr>\n",
        "  </thead>\n",
        "  <tbody>\n",
        "    <tr>\n",
        "      <th>0</th>\n",
        "      <td> foo</td>\n",
        "      <td>   one</td>\n",
        "      <td>-0.259342</td>\n",
        "      <td>-0.255141</td>\n",
        "    </tr>\n",
        "    <tr>\n",
        "      <th>1</th>\n",
        "      <td> bar</td>\n",
        "      <td>   one</td>\n",
        "      <td> 2.236683</td>\n",
        "      <td> 0.002345</td>\n",
        "    </tr>\n",
        "    <tr>\n",
        "      <th>2</th>\n",
        "      <td> foo</td>\n",
        "      <td>   two</td>\n",
        "      <td>-0.918383</td>\n",
        "      <td> 0.583626</td>\n",
        "    </tr>\n",
        "    <tr>\n",
        "      <th>3</th>\n",
        "      <td> bar</td>\n",
        "      <td> three</td>\n",
        "      <td> 0.939925</td>\n",
        "      <td> 1.528471</td>\n",
        "    </tr>\n",
        "    <tr>\n",
        "      <th>4</th>\n",
        "      <td> foo</td>\n",
        "      <td>   two</td>\n",
        "      <td>-0.185482</td>\n",
        "      <td> 0.151661</td>\n",
        "    </tr>\n",
        "    <tr>\n",
        "      <th>5</th>\n",
        "      <td> bar</td>\n",
        "      <td>   two</td>\n",
        "      <td>-1.656500</td>\n",
        "      <td> 0.416123</td>\n",
        "    </tr>\n",
        "    <tr>\n",
        "      <th>6</th>\n",
        "      <td> foo</td>\n",
        "      <td>   one</td>\n",
        "      <td> 1.963015</td>\n",
        "      <td>-0.285482</td>\n",
        "    </tr>\n",
        "    <tr>\n",
        "      <th>7</th>\n",
        "      <td> foo</td>\n",
        "      <td> three</td>\n",
        "      <td>-0.235122</td>\n",
        "      <td> 0.407489</td>\n",
        "    </tr>\n",
        "  </tbody>\n",
        "</table>\n",
        "</div>"
       ],
       "metadata": {},
       "output_type": "pyout",
       "prompt_number": 63,
       "text": [
        "     A      B         C         D\n",
        "0  foo    one -0.259342 -0.255141\n",
        "1  bar    one  2.236683  0.002345\n",
        "2  foo    two -0.918383  0.583626\n",
        "3  bar  three  0.939925  1.528471\n",
        "4  foo    two -0.185482  0.151661\n",
        "5  bar    two -1.656500  0.416123\n",
        "6  foo    one  1.963015 -0.285482\n",
        "7  foo  three -0.235122  0.407489"
       ]
      }
     ],
     "prompt_number": 63
    },
    {
     "cell_type": "code",
     "collapsed": false,
     "input": [
      "df.groupby('A').sum()"
     ],
     "language": "python",
     "metadata": {},
     "outputs": [
      {
       "html": [
        "<div style=\"max-height:1000px;max-width:1500px;overflow:auto;\">\n",
        "<table border=\"1\" class=\"dataframe\">\n",
        "  <thead>\n",
        "    <tr style=\"text-align: right;\">\n",
        "      <th></th>\n",
        "      <th>C</th>\n",
        "      <th>D</th>\n",
        "    </tr>\n",
        "    <tr>\n",
        "      <th>A</th>\n",
        "      <th></th>\n",
        "      <th></th>\n",
        "    </tr>\n",
        "  </thead>\n",
        "  <tbody>\n",
        "    <tr>\n",
        "      <th>bar</th>\n",
        "      <td> 1.520107</td>\n",
        "      <td> 1.946940</td>\n",
        "    </tr>\n",
        "    <tr>\n",
        "      <th>foo</th>\n",
        "      <td> 0.364686</td>\n",
        "      <td> 0.602153</td>\n",
        "    </tr>\n",
        "  </tbody>\n",
        "</table>\n",
        "</div>"
       ],
       "metadata": {},
       "output_type": "pyout",
       "prompt_number": 64,
       "text": [
        "            C         D\n",
        "A                      \n",
        "bar  1.520107  1.946940\n",
        "foo  0.364686  0.602153"
       ]
      }
     ],
     "prompt_number": 64
    },
    {
     "cell_type": "code",
     "collapsed": false,
     "input": [
      "print df.groupby(['A', 'B']).sum()\n",
      "print df.groupby(['B', 'A']).sum()"
     ],
     "language": "python",
     "metadata": {},
     "outputs": [
      {
       "output_type": "stream",
       "stream": "stdout",
       "text": [
        "                  C         D\n",
        "A   B                        \n",
        "bar one    2.236683  0.002345\n",
        "    three  0.939925  1.528471\n",
        "    two   -1.656500  0.416123\n",
        "foo one    1.703674 -0.540623\n",
        "    three -0.235122  0.407489\n",
        "    two   -1.103866  0.735287\n",
        "                  C         D\n",
        "B     A                      \n",
        "one   bar  2.236683  0.002345\n",
        "      foo  1.703674 -0.540623\n",
        "three bar  0.939925  1.528471\n",
        "      foo -0.235122  0.407489\n",
        "two   bar -1.656500  0.416123\n",
        "      foo -1.103866  0.735287\n"
       ]
      }
     ],
     "prompt_number": 66
    },
    {
     "cell_type": "code",
     "collapsed": false,
     "input": [
      "tuples = list(zip(*[['bar', 'bar', 'baz', 'baz',\n",
      "                     'foo', 'foo', 'qux', 'qux'],\n",
      "                    ['one', 'two', 'one', 'two',\n",
      "                     'one', 'two', 'one', 'two']]))\n",
      "index = MultiIndex.from_tuples(tuples, names=['first', 'second'])\n",
      "df = DataFrame(np.random.randn(8,2), index = index, columns = ['A', 'B'])\n",
      "\n",
      "df2 = df[:4]\n",
      "\n",
      "df2\n",
      "                     "
     ],
     "language": "python",
     "metadata": {},
     "outputs": [
      {
       "html": [
        "<div style=\"max-height:1000px;max-width:1500px;overflow:auto;\">\n",
        "<table border=\"1\" class=\"dataframe\">\n",
        "  <thead>\n",
        "    <tr style=\"text-align: right;\">\n",
        "      <th></th>\n",
        "      <th></th>\n",
        "      <th>A</th>\n",
        "      <th>B</th>\n",
        "    </tr>\n",
        "    <tr>\n",
        "      <th>first</th>\n",
        "      <th>second</th>\n",
        "      <th></th>\n",
        "      <th></th>\n",
        "    </tr>\n",
        "  </thead>\n",
        "  <tbody>\n",
        "    <tr>\n",
        "      <th rowspan=\"2\" valign=\"top\">bar</th>\n",
        "      <th>one</th>\n",
        "      <td> 1.524655</td>\n",
        "      <td> 0.288257</td>\n",
        "    </tr>\n",
        "    <tr>\n",
        "      <th>two</th>\n",
        "      <td>-0.513995</td>\n",
        "      <td>-0.989347</td>\n",
        "    </tr>\n",
        "    <tr>\n",
        "      <th rowspan=\"2\" valign=\"top\">baz</th>\n",
        "      <th>one</th>\n",
        "      <td> 0.293811</td>\n",
        "      <td> 0.870650</td>\n",
        "    </tr>\n",
        "    <tr>\n",
        "      <th>two</th>\n",
        "      <td>-0.805459</td>\n",
        "      <td> 0.560943</td>\n",
        "    </tr>\n",
        "  </tbody>\n",
        "</table>\n",
        "</div>"
       ],
       "metadata": {},
       "output_type": "pyout",
       "prompt_number": 68,
       "text": [
        "                     A         B\n",
        "first second                    \n",
        "bar   one     1.524655  0.288257\n",
        "      two    -0.513995 -0.989347\n",
        "baz   one     0.293811  0.870650\n",
        "      two    -0.805459  0.560943"
       ]
      }
     ],
     "prompt_number": 68
    },
    {
     "cell_type": "code",
     "collapsed": false,
     "input": [
      "stacked = df2.stack()\n",
      "stacked"
     ],
     "language": "python",
     "metadata": {},
     "outputs": [
      {
       "metadata": {},
       "output_type": "pyout",
       "prompt_number": 69,
       "text": [
        "first  second   \n",
        "bar    one     A    1.524655\n",
        "               B    0.288257\n",
        "       two     A   -0.513995\n",
        "               B   -0.989347\n",
        "baz    one     A    0.293811\n",
        "               B    0.870650\n",
        "       two     A   -0.805459\n",
        "               B    0.560943\n",
        "dtype: float64"
       ]
      }
     ],
     "prompt_number": 69
    },
    {
     "cell_type": "code",
     "collapsed": false,
     "input": [
      "stacked.unstack()"
     ],
     "language": "python",
     "metadata": {},
     "outputs": [
      {
       "html": [
        "<div style=\"max-height:1000px;max-width:1500px;overflow:auto;\">\n",
        "<table border=\"1\" class=\"dataframe\">\n",
        "  <thead>\n",
        "    <tr style=\"text-align: right;\">\n",
        "      <th></th>\n",
        "      <th></th>\n",
        "      <th>A</th>\n",
        "      <th>B</th>\n",
        "    </tr>\n",
        "    <tr>\n",
        "      <th>first</th>\n",
        "      <th>second</th>\n",
        "      <th></th>\n",
        "      <th></th>\n",
        "    </tr>\n",
        "  </thead>\n",
        "  <tbody>\n",
        "    <tr>\n",
        "      <th rowspan=\"2\" valign=\"top\">bar</th>\n",
        "      <th>one</th>\n",
        "      <td> 1.524655</td>\n",
        "      <td> 0.288257</td>\n",
        "    </tr>\n",
        "    <tr>\n",
        "      <th>two</th>\n",
        "      <td>-0.513995</td>\n",
        "      <td>-0.989347</td>\n",
        "    </tr>\n",
        "    <tr>\n",
        "      <th rowspan=\"2\" valign=\"top\">baz</th>\n",
        "      <th>one</th>\n",
        "      <td> 0.293811</td>\n",
        "      <td> 0.870650</td>\n",
        "    </tr>\n",
        "    <tr>\n",
        "      <th>two</th>\n",
        "      <td>-0.805459</td>\n",
        "      <td> 0.560943</td>\n",
        "    </tr>\n",
        "  </tbody>\n",
        "</table>\n",
        "</div>"
       ],
       "metadata": {},
       "output_type": "pyout",
       "prompt_number": 70,
       "text": [
        "                     A         B\n",
        "first second                    \n",
        "bar   one     1.524655  0.288257\n",
        "      two    -0.513995 -0.989347\n",
        "baz   one     0.293811  0.870650\n",
        "      two    -0.805459  0.560943"
       ]
      }
     ],
     "prompt_number": 70
    },
    {
     "cell_type": "code",
     "collapsed": false,
     "input": [
      "stacked.unstack(1)"
     ],
     "language": "python",
     "metadata": {},
     "outputs": [
      {
       "html": [
        "<div style=\"max-height:1000px;max-width:1500px;overflow:auto;\">\n",
        "<table border=\"1\" class=\"dataframe\">\n",
        "  <thead>\n",
        "    <tr style=\"text-align: right;\">\n",
        "      <th></th>\n",
        "      <th>second</th>\n",
        "      <th>one</th>\n",
        "      <th>two</th>\n",
        "    </tr>\n",
        "    <tr>\n",
        "      <th>first</th>\n",
        "      <th></th>\n",
        "      <th></th>\n",
        "      <th></th>\n",
        "    </tr>\n",
        "  </thead>\n",
        "  <tbody>\n",
        "    <tr>\n",
        "      <th rowspan=\"2\" valign=\"top\">bar</th>\n",
        "      <th>A</th>\n",
        "      <td> 1.524655</td>\n",
        "      <td>-0.513995</td>\n",
        "    </tr>\n",
        "    <tr>\n",
        "      <th>B</th>\n",
        "      <td> 0.288257</td>\n",
        "      <td>-0.989347</td>\n",
        "    </tr>\n",
        "    <tr>\n",
        "      <th rowspan=\"2\" valign=\"top\">baz</th>\n",
        "      <th>A</th>\n",
        "      <td> 0.293811</td>\n",
        "      <td>-0.805459</td>\n",
        "    </tr>\n",
        "    <tr>\n",
        "      <th>B</th>\n",
        "      <td> 0.870650</td>\n",
        "      <td> 0.560943</td>\n",
        "    </tr>\n",
        "  </tbody>\n",
        "</table>\n",
        "</div>"
       ],
       "metadata": {},
       "output_type": "pyout",
       "prompt_number": 71,
       "text": [
        "second        one       two\n",
        "first                      \n",
        "bar   A  1.524655 -0.513995\n",
        "      B  0.288257 -0.989347\n",
        "baz   A  0.293811 -0.805459\n",
        "      B  0.870650  0.560943"
       ]
      }
     ],
     "prompt_number": 71
    },
    {
     "cell_type": "code",
     "collapsed": false,
     "input": [
      "stacked.unstack(0)"
     ],
     "language": "python",
     "metadata": {},
     "outputs": [
      {
       "html": [
        "<div style=\"max-height:1000px;max-width:1500px;overflow:auto;\">\n",
        "<table border=\"1\" class=\"dataframe\">\n",
        "  <thead>\n",
        "    <tr style=\"text-align: right;\">\n",
        "      <th></th>\n",
        "      <th>first</th>\n",
        "      <th>bar</th>\n",
        "      <th>baz</th>\n",
        "    </tr>\n",
        "    <tr>\n",
        "      <th>second</th>\n",
        "      <th></th>\n",
        "      <th></th>\n",
        "      <th></th>\n",
        "    </tr>\n",
        "  </thead>\n",
        "  <tbody>\n",
        "    <tr>\n",
        "      <th rowspan=\"2\" valign=\"top\">one</th>\n",
        "      <th>A</th>\n",
        "      <td> 1.524655</td>\n",
        "      <td> 0.293811</td>\n",
        "    </tr>\n",
        "    <tr>\n",
        "      <th>B</th>\n",
        "      <td> 0.288257</td>\n",
        "      <td> 0.870650</td>\n",
        "    </tr>\n",
        "    <tr>\n",
        "      <th rowspan=\"2\" valign=\"top\">two</th>\n",
        "      <th>A</th>\n",
        "      <td>-0.513995</td>\n",
        "      <td>-0.805459</td>\n",
        "    </tr>\n",
        "    <tr>\n",
        "      <th>B</th>\n",
        "      <td>-0.989347</td>\n",
        "      <td> 0.560943</td>\n",
        "    </tr>\n",
        "  </tbody>\n",
        "</table>\n",
        "</div>"
       ],
       "metadata": {},
       "output_type": "pyout",
       "prompt_number": 72,
       "text": [
        "first          bar       baz\n",
        "second                      \n",
        "one    A  1.524655  0.293811\n",
        "       B  0.288257  0.870650\n",
        "two    A -0.513995 -0.805459\n",
        "       B -0.989347  0.560943"
       ]
      }
     ],
     "prompt_number": 72
    },
    {
     "cell_type": "code",
     "collapsed": false,
     "input": [
      "df = DataFrame({'A' : ['one', 'one', 'two', 'three'] * 3,\n",
      "                'B' : ['A', 'B', 'C'] * 4 ,\n",
      "                'C' : ['foo', 'foo', 'foo', 'bar', 'bar', 'bar'] * 2,\n",
      "                'D' : np.random.randn(12),\n",
      "                'E' : np.random.randn(12)})\n",
      "df"
     ],
     "language": "python",
     "metadata": {},
     "outputs": [
      {
       "html": [
        "<div style=\"max-height:1000px;max-width:1500px;overflow:auto;\">\n",
        "<table border=\"1\" class=\"dataframe\">\n",
        "  <thead>\n",
        "    <tr style=\"text-align: right;\">\n",
        "      <th></th>\n",
        "      <th>A</th>\n",
        "      <th>B</th>\n",
        "      <th>C</th>\n",
        "      <th>D</th>\n",
        "      <th>E</th>\n",
        "    </tr>\n",
        "  </thead>\n",
        "  <tbody>\n",
        "    <tr>\n",
        "      <th>0 </th>\n",
        "      <td>   one</td>\n",
        "      <td> A</td>\n",
        "      <td> foo</td>\n",
        "      <td>-0.252614</td>\n",
        "      <td> 0.024820</td>\n",
        "    </tr>\n",
        "    <tr>\n",
        "      <th>1 </th>\n",
        "      <td>   one</td>\n",
        "      <td> B</td>\n",
        "      <td> foo</td>\n",
        "      <td>-1.153801</td>\n",
        "      <td>-0.032719</td>\n",
        "    </tr>\n",
        "    <tr>\n",
        "      <th>2 </th>\n",
        "      <td>   two</td>\n",
        "      <td> C</td>\n",
        "      <td> foo</td>\n",
        "      <td> 0.273024</td>\n",
        "      <td>-0.817465</td>\n",
        "    </tr>\n",
        "    <tr>\n",
        "      <th>3 </th>\n",
        "      <td> three</td>\n",
        "      <td> A</td>\n",
        "      <td> bar</td>\n",
        "      <td>-0.709631</td>\n",
        "      <td>-0.573687</td>\n",
        "    </tr>\n",
        "    <tr>\n",
        "      <th>4 </th>\n",
        "      <td>   one</td>\n",
        "      <td> B</td>\n",
        "      <td> bar</td>\n",
        "      <td>-1.221847</td>\n",
        "      <td>-1.047370</td>\n",
        "    </tr>\n",
        "    <tr>\n",
        "      <th>5 </th>\n",
        "      <td>   one</td>\n",
        "      <td> C</td>\n",
        "      <td> bar</td>\n",
        "      <td>-1.677957</td>\n",
        "      <td>-0.188440</td>\n",
        "    </tr>\n",
        "    <tr>\n",
        "      <th>6 </th>\n",
        "      <td>   two</td>\n",
        "      <td> A</td>\n",
        "      <td> foo</td>\n",
        "      <td> 0.169261</td>\n",
        "      <td> 1.659587</td>\n",
        "    </tr>\n",
        "    <tr>\n",
        "      <th>7 </th>\n",
        "      <td> three</td>\n",
        "      <td> B</td>\n",
        "      <td> foo</td>\n",
        "      <td>-1.030056</td>\n",
        "      <td> 0.566057</td>\n",
        "    </tr>\n",
        "    <tr>\n",
        "      <th>8 </th>\n",
        "      <td>   one</td>\n",
        "      <td> C</td>\n",
        "      <td> foo</td>\n",
        "      <td> 0.056438</td>\n",
        "      <td>-0.047879</td>\n",
        "    </tr>\n",
        "    <tr>\n",
        "      <th>9 </th>\n",
        "      <td>   one</td>\n",
        "      <td> A</td>\n",
        "      <td> bar</td>\n",
        "      <td>-0.558527</td>\n",
        "      <td>-0.047091</td>\n",
        "    </tr>\n",
        "    <tr>\n",
        "      <th>10</th>\n",
        "      <td>   two</td>\n",
        "      <td> B</td>\n",
        "      <td> bar</td>\n",
        "      <td> 1.717596</td>\n",
        "      <td>-0.482111</td>\n",
        "    </tr>\n",
        "    <tr>\n",
        "      <th>11</th>\n",
        "      <td> three</td>\n",
        "      <td> C</td>\n",
        "      <td> bar</td>\n",
        "      <td>-1.378473</td>\n",
        "      <td>-0.694371</td>\n",
        "    </tr>\n",
        "  </tbody>\n",
        "</table>\n",
        "</div>"
       ],
       "metadata": {},
       "output_type": "pyout",
       "prompt_number": 74,
       "text": [
        "        A  B    C         D         E\n",
        "0     one  A  foo -0.252614  0.024820\n",
        "1     one  B  foo -1.153801 -0.032719\n",
        "2     two  C  foo  0.273024 -0.817465\n",
        "3   three  A  bar -0.709631 -0.573687\n",
        "4     one  B  bar -1.221847 -1.047370\n",
        "5     one  C  bar -1.677957 -0.188440\n",
        "6     two  A  foo  0.169261  1.659587\n",
        "7   three  B  foo -1.030056  0.566057\n",
        "8     one  C  foo  0.056438 -0.047879\n",
        "9     one  A  bar -0.558527 -0.047091\n",
        "10    two  B  bar  1.717596 -0.482111\n",
        "11  three  C  bar -1.378473 -0.694371"
       ]
      }
     ],
     "prompt_number": 74
    },
    {
     "cell_type": "code",
     "collapsed": false,
     "input": [
      "pivot_table(df, values = 'D', index = ['A', 'B'], columns = ['C'])"
     ],
     "language": "python",
     "metadata": {},
     "outputs": [
      {
       "html": [
        "<div style=\"max-height:1000px;max-width:1500px;overflow:auto;\">\n",
        "<table border=\"1\" class=\"dataframe\">\n",
        "  <thead>\n",
        "    <tr style=\"text-align: right;\">\n",
        "      <th></th>\n",
        "      <th>C</th>\n",
        "      <th>bar</th>\n",
        "      <th>foo</th>\n",
        "    </tr>\n",
        "    <tr>\n",
        "      <th>A</th>\n",
        "      <th>B</th>\n",
        "      <th></th>\n",
        "      <th></th>\n",
        "    </tr>\n",
        "  </thead>\n",
        "  <tbody>\n",
        "    <tr>\n",
        "      <th rowspan=\"3\" valign=\"top\">one</th>\n",
        "      <th>A</th>\n",
        "      <td>-0.558527</td>\n",
        "      <td>-0.252614</td>\n",
        "    </tr>\n",
        "    <tr>\n",
        "      <th>B</th>\n",
        "      <td>-1.221847</td>\n",
        "      <td>-1.153801</td>\n",
        "    </tr>\n",
        "    <tr>\n",
        "      <th>C</th>\n",
        "      <td>-1.677957</td>\n",
        "      <td> 0.056438</td>\n",
        "    </tr>\n",
        "    <tr>\n",
        "      <th rowspan=\"3\" valign=\"top\">three</th>\n",
        "      <th>A</th>\n",
        "      <td>-0.709631</td>\n",
        "      <td>      NaN</td>\n",
        "    </tr>\n",
        "    <tr>\n",
        "      <th>B</th>\n",
        "      <td>      NaN</td>\n",
        "      <td>-1.030056</td>\n",
        "    </tr>\n",
        "    <tr>\n",
        "      <th>C</th>\n",
        "      <td>-1.378473</td>\n",
        "      <td>      NaN</td>\n",
        "    </tr>\n",
        "    <tr>\n",
        "      <th rowspan=\"3\" valign=\"top\">two</th>\n",
        "      <th>A</th>\n",
        "      <td>      NaN</td>\n",
        "      <td> 0.169261</td>\n",
        "    </tr>\n",
        "    <tr>\n",
        "      <th>B</th>\n",
        "      <td> 1.717596</td>\n",
        "      <td>      NaN</td>\n",
        "    </tr>\n",
        "    <tr>\n",
        "      <th>C</th>\n",
        "      <td>      NaN</td>\n",
        "      <td> 0.273024</td>\n",
        "    </tr>\n",
        "  </tbody>\n",
        "</table>\n",
        "</div>"
       ],
       "metadata": {},
       "output_type": "pyout",
       "prompt_number": 76,
       "text": [
        "C             bar       foo\n",
        "A     B                    \n",
        "one   A -0.558527 -0.252614\n",
        "      B -1.221847 -1.153801\n",
        "      C -1.677957  0.056438\n",
        "three A -0.709631       NaN\n",
        "      B       NaN -1.030056\n",
        "      C -1.378473       NaN\n",
        "two   A       NaN  0.169261\n",
        "      B  1.717596       NaN\n",
        "      C       NaN  0.273024"
       ]
      }
     ],
     "prompt_number": 76
    },
    {
     "cell_type": "code",
     "collapsed": false,
     "input": [
      "pivot_table(df, values = ['D','E'], index = ['A', 'B'], columns = ['C'])"
     ],
     "language": "python",
     "metadata": {},
     "outputs": [
      {
       "html": [
        "<div style=\"max-height:1000px;max-width:1500px;overflow:auto;\">\n",
        "<table border=\"1\" class=\"dataframe\">\n",
        "  <thead>\n",
        "    <tr>\n",
        "      <th></th>\n",
        "      <th></th>\n",
        "      <th colspan=\"2\" halign=\"left\">D</th>\n",
        "      <th colspan=\"2\" halign=\"left\">E</th>\n",
        "    </tr>\n",
        "    <tr>\n",
        "      <th></th>\n",
        "      <th>C</th>\n",
        "      <th>bar</th>\n",
        "      <th>foo</th>\n",
        "      <th>bar</th>\n",
        "      <th>foo</th>\n",
        "    </tr>\n",
        "    <tr>\n",
        "      <th>A</th>\n",
        "      <th>B</th>\n",
        "      <th></th>\n",
        "      <th></th>\n",
        "      <th></th>\n",
        "      <th></th>\n",
        "    </tr>\n",
        "  </thead>\n",
        "  <tbody>\n",
        "    <tr>\n",
        "      <th rowspan=\"3\" valign=\"top\">one</th>\n",
        "      <th>A</th>\n",
        "      <td>-0.558527</td>\n",
        "      <td>-0.252614</td>\n",
        "      <td>-0.047091</td>\n",
        "      <td> 0.024820</td>\n",
        "    </tr>\n",
        "    <tr>\n",
        "      <th>B</th>\n",
        "      <td>-1.221847</td>\n",
        "      <td>-1.153801</td>\n",
        "      <td>-1.047370</td>\n",
        "      <td>-0.032719</td>\n",
        "    </tr>\n",
        "    <tr>\n",
        "      <th>C</th>\n",
        "      <td>-1.677957</td>\n",
        "      <td> 0.056438</td>\n",
        "      <td>-0.188440</td>\n",
        "      <td>-0.047879</td>\n",
        "    </tr>\n",
        "    <tr>\n",
        "      <th rowspan=\"3\" valign=\"top\">three</th>\n",
        "      <th>A</th>\n",
        "      <td>-0.709631</td>\n",
        "      <td>      NaN</td>\n",
        "      <td>-0.573687</td>\n",
        "      <td>      NaN</td>\n",
        "    </tr>\n",
        "    <tr>\n",
        "      <th>B</th>\n",
        "      <td>      NaN</td>\n",
        "      <td>-1.030056</td>\n",
        "      <td>      NaN</td>\n",
        "      <td> 0.566057</td>\n",
        "    </tr>\n",
        "    <tr>\n",
        "      <th>C</th>\n",
        "      <td>-1.378473</td>\n",
        "      <td>      NaN</td>\n",
        "      <td>-0.694371</td>\n",
        "      <td>      NaN</td>\n",
        "    </tr>\n",
        "    <tr>\n",
        "      <th rowspan=\"3\" valign=\"top\">two</th>\n",
        "      <th>A</th>\n",
        "      <td>      NaN</td>\n",
        "      <td> 0.169261</td>\n",
        "      <td>      NaN</td>\n",
        "      <td> 1.659587</td>\n",
        "    </tr>\n",
        "    <tr>\n",
        "      <th>B</th>\n",
        "      <td> 1.717596</td>\n",
        "      <td>      NaN</td>\n",
        "      <td>-0.482111</td>\n",
        "      <td>      NaN</td>\n",
        "    </tr>\n",
        "    <tr>\n",
        "      <th>C</th>\n",
        "      <td>      NaN</td>\n",
        "      <td> 0.273024</td>\n",
        "      <td>      NaN</td>\n",
        "      <td>-0.817465</td>\n",
        "    </tr>\n",
        "  </tbody>\n",
        "</table>\n",
        "</div>"
       ],
       "metadata": {},
       "output_type": "pyout",
       "prompt_number": 77,
       "text": [
        "                D                   E          \n",
        "C             bar       foo       bar       foo\n",
        "A     B                                        \n",
        "one   A -0.558527 -0.252614 -0.047091  0.024820\n",
        "      B -1.221847 -1.153801 -1.047370 -0.032719\n",
        "      C -1.677957  0.056438 -0.188440 -0.047879\n",
        "three A -0.709631       NaN -0.573687       NaN\n",
        "      B       NaN -1.030056       NaN  0.566057\n",
        "      C -1.378473       NaN -0.694371       NaN\n",
        "two   A       NaN  0.169261       NaN  1.659587\n",
        "      B  1.717596       NaN -0.482111       NaN\n",
        "      C       NaN  0.273024       NaN -0.817465"
       ]
      }
     ],
     "prompt_number": 77
    },
    {
     "cell_type": "code",
     "collapsed": false,
     "input": [
      "rng = date_range('1/1/2012', periods = 100, freq = 's')\n",
      "ts = Series(np.random.randint(0,500,len(rng)), index=rng)\n",
      "ts.resample('5Min', how='sum')"
     ],
     "language": "python",
     "metadata": {},
     "outputs": [
      {
       "metadata": {},
       "output_type": "pyout",
       "prompt_number": 79,
       "text": [
        "2012-01-01    26316\n",
        "Freq: 5T, dtype: int32"
       ]
      }
     ],
     "prompt_number": 79
    },
    {
     "cell_type": "code",
     "collapsed": false,
     "input": [
      "rng = date_range('3/6/2012', periods = 5, freq = 'D')\n",
      "ts = Series(np.random.randn(len(rng)), rng)\n",
      "ts"
     ],
     "language": "python",
     "metadata": {},
     "outputs": [
      {
       "metadata": {},
       "output_type": "pyout",
       "prompt_number": 80,
       "text": [
        "2012-03-06   -0.663331\n",
        "2012-03-07   -1.645174\n",
        "2012-03-08    0.652372\n",
        "2012-03-09   -0.274692\n",
        "2012-03-10   -0.723085\n",
        "Freq: D, dtype: float64"
       ]
      }
     ],
     "prompt_number": 80
    },
    {
     "cell_type": "code",
     "collapsed": false,
     "input": [
      "ts_utc = ts.tz_localize('UTC')\n",
      "ts_utc"
     ],
     "language": "python",
     "metadata": {},
     "outputs": [
      {
       "metadata": {},
       "output_type": "pyout",
       "prompt_number": 81,
       "text": [
        "2012-03-06 00:00:00+00:00   -0.663331\n",
        "2012-03-07 00:00:00+00:00   -1.645174\n",
        "2012-03-08 00:00:00+00:00    0.652372\n",
        "2012-03-09 00:00:00+00:00   -0.274692\n",
        "2012-03-10 00:00:00+00:00   -0.723085\n",
        "Freq: D, dtype: float64"
       ]
      }
     ],
     "prompt_number": 81
    },
    {
     "cell_type": "code",
     "collapsed": false,
     "input": [
      "ts_utc.tz_convert('US/Eastern')"
     ],
     "language": "python",
     "metadata": {},
     "outputs": [
      {
       "metadata": {},
       "output_type": "pyout",
       "prompt_number": 83,
       "text": [
        "2012-03-05 19:00:00-05:00   -0.663331\n",
        "2012-03-06 19:00:00-05:00   -1.645174\n",
        "2012-03-07 19:00:00-05:00    0.652372\n",
        "2012-03-08 19:00:00-05:00   -0.274692\n",
        "2012-03-09 19:00:00-05:00   -0.723085\n",
        "Freq: D, dtype: float64"
       ]
      }
     ],
     "prompt_number": 83
    },
    {
     "cell_type": "code",
     "collapsed": false,
     "input": [
      "rng = date_range('1/1/2012', periods = 5, freq = 'M')\n",
      "ts = Series(np.random.randn(len(rng)), index = rng)\n",
      "ts"
     ],
     "language": "python",
     "metadata": {},
     "outputs": [
      {
       "metadata": {},
       "output_type": "pyout",
       "prompt_number": 84,
       "text": [
        "2012-01-31   -0.700093\n",
        "2012-02-29   -0.851161\n",
        "2012-03-31   -1.607997\n",
        "2012-04-30   -0.149182\n",
        "2012-05-31   -0.568607\n",
        "Freq: M, dtype: float64"
       ]
      }
     ],
     "prompt_number": 84
    },
    {
     "cell_type": "code",
     "collapsed": false,
     "input": [
      "ps = ts.to_period()\n",
      "ps"
     ],
     "language": "python",
     "metadata": {},
     "outputs": [
      {
       "metadata": {},
       "output_type": "pyout",
       "prompt_number": 85,
       "text": [
        "2012-01   -0.700093\n",
        "2012-02   -0.851161\n",
        "2012-03   -1.607997\n",
        "2012-04   -0.149182\n",
        "2012-05   -0.568607\n",
        "Freq: M, dtype: float64"
       ]
      }
     ],
     "prompt_number": 85
    },
    {
     "cell_type": "code",
     "collapsed": false,
     "input": [
      "ps.to_timestamp()"
     ],
     "language": "python",
     "metadata": {},
     "outputs": [
      {
       "metadata": {},
       "output_type": "pyout",
       "prompt_number": 86,
       "text": [
        "2012-01-01   -0.700093\n",
        "2012-02-01   -0.851161\n",
        "2012-03-01   -1.607997\n",
        "2012-04-01   -0.149182\n",
        "2012-05-01   -0.568607\n",
        "Freq: MS, dtype: float64"
       ]
      }
     ],
     "prompt_number": 86
    },
    {
     "cell_type": "code",
     "collapsed": false,
     "input": [
      "prng = period_range('1990Q1', '2000Q4', freq = 'Q-NOV')\n",
      "ts = Series(np.random.randn(len(prng)), prng)\n",
      "ts.index = (prng.asfreq('M', 'e') + 1).asfreq('H', 's') + 9\n",
      "ts.head()"
     ],
     "language": "python",
     "metadata": {},
     "outputs": [
      {
       "metadata": {},
       "output_type": "pyout",
       "prompt_number": 87,
       "text": [
        "1990-03-01 09:00   -0.467372\n",
        "1990-06-01 09:00    0.731586\n",
        "1990-09-01 09:00   -0.762516\n",
        "1990-12-01 09:00   -0.309462\n",
        "1991-03-01 09:00   -2.166920\n",
        "Freq: H, dtype: float64"
       ]
      }
     ],
     "prompt_number": 87
    },
    {
     "cell_type": "code",
     "collapsed": false,
     "input": [
      "ts = Series(np.random.randn(1000), index = date_range('1/1/2000', periods = 1000))\n",
      "ts = ts.cumsum()\n",
      "ts.plot()"
     ],
     "language": "python",
     "metadata": {},
     "outputs": [
      {
       "metadata": {},
       "output_type": "pyout",
       "prompt_number": 98,
       "text": [
        "<matplotlib.axes._subplots.AxesSubplot at 0xc94bac8>"
       ]
      },
      {
       "metadata": {},
       "output_type": "display_data",
       "png": "[encoded data removed]",
       "text": [
        "<matplotlib.figure.Figure at 0xc94b6a0>"
       ]
      }
     ],
     "prompt_number": 98
    },
    {
     "cell_type": "code",
     "collapsed": false,
     "input": [
      "df = DataFrame(np.random.randn(1000,4), index=ts.index, columns = ['A', 'B', 'C', 'D'])\n",
      "df = df.cumsum()\n",
      "plt.figure(); df.plot(); plt.legend(loc='best')"
     ],
     "language": "python",
     "metadata": {},
     "outputs": [
      {
       "metadata": {},
       "output_type": "pyout",
       "prompt_number": 99,
       "text": [
        "<matplotlib.legend.Legend at 0xcc7a860>"
       ]
      },
      {
       "metadata": {},
       "output_type": "display_data",
       "text": [
        "<matplotlib.figure.Figure at 0xc8ec3c8>"
       ]
      },
      {
       "metadata": {},
       "output_type": "display_data",
       "png": "[encoded data removed]",
       "text": [
        "<matplotlib.figure.Figure at 0xcc7a898>"
       ]
      }
     ],
     "prompt_number": 99
    },
    {
     "cell_type": "code",
     "collapsed": false,
     "input": [],
     "language": "python",
     "metadata": {},
     "outputs": []
    }
   ],
   "metadata": {}
  }
 ]
}